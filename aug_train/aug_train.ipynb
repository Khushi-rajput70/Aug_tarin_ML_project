{
 "cells": [
  {
   "cell_type": "code",
   "execution_count": 1,
   "id": "84feaf4a-854f-4fda-99cd-d75637ad8198",
   "metadata": {},
   "outputs": [],
   "source": [
    "#IMPORT LIBRARIES\n",
    "\n",
    "\n",
    "import pandas as pd\n",
    "import numpy as np\n",
    "import matplotlib.pyplot as plt\n",
    "import seaborn as sns\n",
    "\n",
    "from sklearn.model_selection import train_test_split\n",
    "from sklearn.preprocessing import LabelEncoder, StandardScaler\n",
    "from sklearn.linear_model import LogisticRegression\n",
    "from sklearn.tree import DecisionTreeClassifier\n",
    "from sklearn.ensemble import RandomForestClassifier\n",
    "from sklearn.metrics import accuracy_score, confusion_matrix, classification_report"
   ]
  },
  {
   "cell_type": "code",
   "execution_count": 2,
   "id": "9ea91cf5-f2da-4759-9602-07535a03bed1",
   "metadata": {},
   "outputs": [],
   "source": [
    "# LOAD DATASET\n",
    "\n",
    "data = pd.read_csv(\"aug_train.csv\")"
   ]
  },
  {
   "cell_type": "code",
   "execution_count": 3,
   "id": "ccd6fa95-ca35-49c8-8ba7-192b1de40fb1",
   "metadata": {},
   "outputs": [
    {
     "data": {
      "text/html": [
       "<div>\n",
       "<style scoped>\n",
       "    .dataframe tbody tr th:only-of-type {\n",
       "        vertical-align: middle;\n",
       "    }\n",
       "\n",
       "    .dataframe tbody tr th {\n",
       "        vertical-align: top;\n",
       "    }\n",
       "\n",
       "    .dataframe thead th {\n",
       "        text-align: right;\n",
       "    }\n",
       "</style>\n",
       "<table border=\"1\" class=\"dataframe\">\n",
       "  <thead>\n",
       "    <tr style=\"text-align: right;\">\n",
       "      <th></th>\n",
       "      <th>enrollee_id</th>\n",
       "      <th>city</th>\n",
       "      <th>city_development_index</th>\n",
       "      <th>gender</th>\n",
       "      <th>relevent_experience</th>\n",
       "      <th>enrolled_university</th>\n",
       "      <th>education_level</th>\n",
       "      <th>major_discipline</th>\n",
       "      <th>experience</th>\n",
       "      <th>company_size</th>\n",
       "      <th>company_type</th>\n",
       "      <th>last_new_job</th>\n",
       "      <th>training_hours</th>\n",
       "      <th>target</th>\n",
       "    </tr>\n",
       "  </thead>\n",
       "  <tbody>\n",
       "    <tr>\n",
       "      <th>0</th>\n",
       "      <td>8949</td>\n",
       "      <td>city_103</td>\n",
       "      <td>0.920</td>\n",
       "      <td>Male</td>\n",
       "      <td>Has relevent experience</td>\n",
       "      <td>no_enrollment</td>\n",
       "      <td>Graduate</td>\n",
       "      <td>STEM</td>\n",
       "      <td>&gt;20</td>\n",
       "      <td>NaN</td>\n",
       "      <td>NaN</td>\n",
       "      <td>1</td>\n",
       "      <td>36</td>\n",
       "      <td>1.0</td>\n",
       "    </tr>\n",
       "    <tr>\n",
       "      <th>1</th>\n",
       "      <td>29725</td>\n",
       "      <td>city_40</td>\n",
       "      <td>0.776</td>\n",
       "      <td>Male</td>\n",
       "      <td>No relevent experience</td>\n",
       "      <td>no_enrollment</td>\n",
       "      <td>Graduate</td>\n",
       "      <td>STEM</td>\n",
       "      <td>15</td>\n",
       "      <td>50-99</td>\n",
       "      <td>Pvt Ltd</td>\n",
       "      <td>&gt;4</td>\n",
       "      <td>47</td>\n",
       "      <td>0.0</td>\n",
       "    </tr>\n",
       "    <tr>\n",
       "      <th>2</th>\n",
       "      <td>11561</td>\n",
       "      <td>city_21</td>\n",
       "      <td>0.624</td>\n",
       "      <td>NaN</td>\n",
       "      <td>No relevent experience</td>\n",
       "      <td>Full time course</td>\n",
       "      <td>Graduate</td>\n",
       "      <td>STEM</td>\n",
       "      <td>5</td>\n",
       "      <td>NaN</td>\n",
       "      <td>NaN</td>\n",
       "      <td>never</td>\n",
       "      <td>83</td>\n",
       "      <td>0.0</td>\n",
       "    </tr>\n",
       "    <tr>\n",
       "      <th>3</th>\n",
       "      <td>33241</td>\n",
       "      <td>city_115</td>\n",
       "      <td>0.789</td>\n",
       "      <td>NaN</td>\n",
       "      <td>No relevent experience</td>\n",
       "      <td>NaN</td>\n",
       "      <td>Graduate</td>\n",
       "      <td>Business Degree</td>\n",
       "      <td>&lt;1</td>\n",
       "      <td>NaN</td>\n",
       "      <td>Pvt Ltd</td>\n",
       "      <td>never</td>\n",
       "      <td>52</td>\n",
       "      <td>1.0</td>\n",
       "    </tr>\n",
       "    <tr>\n",
       "      <th>4</th>\n",
       "      <td>666</td>\n",
       "      <td>city_162</td>\n",
       "      <td>0.767</td>\n",
       "      <td>Male</td>\n",
       "      <td>Has relevent experience</td>\n",
       "      <td>no_enrollment</td>\n",
       "      <td>Masters</td>\n",
       "      <td>STEM</td>\n",
       "      <td>&gt;20</td>\n",
       "      <td>50-99</td>\n",
       "      <td>Funded Startup</td>\n",
       "      <td>4</td>\n",
       "      <td>8</td>\n",
       "      <td>0.0</td>\n",
       "    </tr>\n",
       "  </tbody>\n",
       "</table>\n",
       "</div>"
      ],
      "text/plain": [
       "   enrollee_id      city  city_development_index gender  \\\n",
       "0         8949  city_103                   0.920   Male   \n",
       "1        29725   city_40                   0.776   Male   \n",
       "2        11561   city_21                   0.624    NaN   \n",
       "3        33241  city_115                   0.789    NaN   \n",
       "4          666  city_162                   0.767   Male   \n",
       "\n",
       "       relevent_experience enrolled_university education_level  \\\n",
       "0  Has relevent experience       no_enrollment        Graduate   \n",
       "1   No relevent experience       no_enrollment        Graduate   \n",
       "2   No relevent experience    Full time course        Graduate   \n",
       "3   No relevent experience                 NaN        Graduate   \n",
       "4  Has relevent experience       no_enrollment         Masters   \n",
       "\n",
       "  major_discipline experience company_size    company_type last_new_job  \\\n",
       "0             STEM        >20          NaN             NaN            1   \n",
       "1             STEM         15        50-99         Pvt Ltd           >4   \n",
       "2             STEM          5          NaN             NaN        never   \n",
       "3  Business Degree         <1          NaN         Pvt Ltd        never   \n",
       "4             STEM        >20        50-99  Funded Startup            4   \n",
       "\n",
       "   training_hours  target  \n",
       "0              36     1.0  \n",
       "1              47     0.0  \n",
       "2              83     0.0  \n",
       "3              52     1.0  \n",
       "4               8     0.0  "
      ]
     },
     "execution_count": 3,
     "metadata": {},
     "output_type": "execute_result"
    }
   ],
   "source": [
    "data.head()"
   ]
  },
  {
   "cell_type": "code",
   "execution_count": 6,
   "id": "1f35f581-cef4-47e6-8524-cb23dbc4a9da",
   "metadata": {},
   "outputs": [
    {
     "data": {
      "text/plain": [
       "(19158, 14)"
      ]
     },
     "execution_count": 6,
     "metadata": {},
     "output_type": "execute_result"
    }
   ],
   "source": [
    "data.shape"
   ]
  },
  {
   "cell_type": "code",
   "execution_count": 7,
   "id": "cb164386-d087-4ca4-9906-b7ebfed7d6ad",
   "metadata": {},
   "outputs": [
    {
     "name": "stdout",
     "output_type": "stream",
     "text": [
      "<class 'pandas.core.frame.DataFrame'>\n",
      "RangeIndex: 19158 entries, 0 to 19157\n",
      "Data columns (total 14 columns):\n",
      " #   Column                  Non-Null Count  Dtype  \n",
      "---  ------                  --------------  -----  \n",
      " 0   enrollee_id             19158 non-null  int64  \n",
      " 1   city                    19158 non-null  object \n",
      " 2   city_development_index  19158 non-null  float64\n",
      " 3   gender                  14650 non-null  object \n",
      " 4   relevent_experience     19158 non-null  object \n",
      " 5   enrolled_university     18772 non-null  object \n",
      " 6   education_level         18698 non-null  object \n",
      " 7   major_discipline        16345 non-null  object \n",
      " 8   experience              19093 non-null  object \n",
      " 9   company_size            13220 non-null  object \n",
      " 10  company_type            13018 non-null  object \n",
      " 11  last_new_job            18735 non-null  object \n",
      " 12  training_hours          19158 non-null  int64  \n",
      " 13  target                  19158 non-null  float64\n",
      "dtypes: float64(2), int64(2), object(10)\n",
      "memory usage: 2.0+ MB\n"
     ]
    }
   ],
   "source": [
    "data.info()"
   ]
  },
  {
   "cell_type": "code",
   "execution_count": 8,
   "id": "032a071d-47e4-4452-86da-5bedafb47260",
   "metadata": {},
   "outputs": [
    {
     "data": {
      "text/html": [
       "<div>\n",
       "<style scoped>\n",
       "    .dataframe tbody tr th:only-of-type {\n",
       "        vertical-align: middle;\n",
       "    }\n",
       "\n",
       "    .dataframe tbody tr th {\n",
       "        vertical-align: top;\n",
       "    }\n",
       "\n",
       "    .dataframe thead th {\n",
       "        text-align: right;\n",
       "    }\n",
       "</style>\n",
       "<table border=\"1\" class=\"dataframe\">\n",
       "  <thead>\n",
       "    <tr style=\"text-align: right;\">\n",
       "      <th></th>\n",
       "      <th>enrollee_id</th>\n",
       "      <th>city_development_index</th>\n",
       "      <th>training_hours</th>\n",
       "      <th>target</th>\n",
       "    </tr>\n",
       "  </thead>\n",
       "  <tbody>\n",
       "    <tr>\n",
       "      <th>count</th>\n",
       "      <td>19158.000000</td>\n",
       "      <td>19158.000000</td>\n",
       "      <td>19158.000000</td>\n",
       "      <td>19158.000000</td>\n",
       "    </tr>\n",
       "    <tr>\n",
       "      <th>mean</th>\n",
       "      <td>16875.358179</td>\n",
       "      <td>0.828848</td>\n",
       "      <td>65.366896</td>\n",
       "      <td>0.249348</td>\n",
       "    </tr>\n",
       "    <tr>\n",
       "      <th>std</th>\n",
       "      <td>9616.292592</td>\n",
       "      <td>0.123362</td>\n",
       "      <td>60.058462</td>\n",
       "      <td>0.432647</td>\n",
       "    </tr>\n",
       "    <tr>\n",
       "      <th>min</th>\n",
       "      <td>1.000000</td>\n",
       "      <td>0.448000</td>\n",
       "      <td>1.000000</td>\n",
       "      <td>0.000000</td>\n",
       "    </tr>\n",
       "    <tr>\n",
       "      <th>25%</th>\n",
       "      <td>8554.250000</td>\n",
       "      <td>0.740000</td>\n",
       "      <td>23.000000</td>\n",
       "      <td>0.000000</td>\n",
       "    </tr>\n",
       "    <tr>\n",
       "      <th>50%</th>\n",
       "      <td>16982.500000</td>\n",
       "      <td>0.903000</td>\n",
       "      <td>47.000000</td>\n",
       "      <td>0.000000</td>\n",
       "    </tr>\n",
       "    <tr>\n",
       "      <th>75%</th>\n",
       "      <td>25169.750000</td>\n",
       "      <td>0.920000</td>\n",
       "      <td>88.000000</td>\n",
       "      <td>0.000000</td>\n",
       "    </tr>\n",
       "    <tr>\n",
       "      <th>max</th>\n",
       "      <td>33380.000000</td>\n",
       "      <td>0.949000</td>\n",
       "      <td>336.000000</td>\n",
       "      <td>1.000000</td>\n",
       "    </tr>\n",
       "  </tbody>\n",
       "</table>\n",
       "</div>"
      ],
      "text/plain": [
       "        enrollee_id  city_development_index  training_hours        target\n",
       "count  19158.000000            19158.000000    19158.000000  19158.000000\n",
       "mean   16875.358179                0.828848       65.366896      0.249348\n",
       "std     9616.292592                0.123362       60.058462      0.432647\n",
       "min        1.000000                0.448000        1.000000      0.000000\n",
       "25%     8554.250000                0.740000       23.000000      0.000000\n",
       "50%    16982.500000                0.903000       47.000000      0.000000\n",
       "75%    25169.750000                0.920000       88.000000      0.000000\n",
       "max    33380.000000                0.949000      336.000000      1.000000"
      ]
     },
     "execution_count": 8,
     "metadata": {},
     "output_type": "execute_result"
    }
   ],
   "source": [
    "data.describe()"
   ]
  },
  {
   "cell_type": "code",
   "execution_count": 9,
   "id": "aa3c0500-0eba-43f0-85b6-b7284d987900",
   "metadata": {},
   "outputs": [
    {
     "data": {
      "text/plain": [
       "enrollee_id                  0\n",
       "city                         0\n",
       "city_development_index       0\n",
       "gender                    4508\n",
       "relevent_experience          0\n",
       "enrolled_university        386\n",
       "education_level            460\n",
       "major_discipline          2813\n",
       "experience                  65\n",
       "company_size              5938\n",
       "company_type              6140\n",
       "last_new_job               423\n",
       "training_hours               0\n",
       "target                       0\n",
       "dtype: int64"
      ]
     },
     "execution_count": 9,
     "metadata": {},
     "output_type": "execute_result"
    }
   ],
   "source": [
    "#CHECK NULL VALUES\n",
    "data.isnull().sum()"
   ]
  },
  {
   "cell_type": "code",
   "execution_count": 10,
   "id": "1270833d-14ed-4f12-89ab-463eb6c583dd",
   "metadata": {},
   "outputs": [],
   "source": [
    "# FILL NULL VALUES\n",
    "data.fillna(data.mode().iloc[0], inplace=True) "
   ]
  },
  {
   "cell_type": "code",
   "execution_count": 13,
   "id": "e73e86fd-422f-4de5-8b7a-baa0639e1910",
   "metadata": {},
   "outputs": [
    {
     "data": {
      "text/plain": [
       "Index(['enrollee_id', 'city', 'city_development_index', 'gender',\n",
       "       'relevent_experience', 'enrolled_university', 'education_level',\n",
       "       'major_discipline', 'experience', 'company_size', 'company_type',\n",
       "       'last_new_job', 'training_hours', 'target'],\n",
       "      dtype='object')"
      ]
     },
     "execution_count": 13,
     "metadata": {},
     "output_type": "execute_result"
    }
   ],
   "source": [
    "data.columns.unique()"
   ]
  },
  {
   "cell_type": "code",
   "execution_count": 34,
   "id": "7186ace5-3445-4a26-80a8-760789f945f0",
   "metadata": {},
   "outputs": [
    {
     "data": {
      "image/png": "[encoded data removed]",
      "text/plain": [
       "<Figure size 1000x800 with 1 Axes>"
      ]
     },
     "metadata": {},
     "output_type": "display_data"
    }
   ],
   "source": [
    "# EDA PERFORM\n",
    "# ATTRITION DISTRIBUTION\n",
    "plt.figure(figsize=(10,8))\n",
    "sns.countplot(x=\"target\", data=data, palette=\"Set2\")\n",
    "plt.title(\"Attrition Distribution (0=Stayed, 1=Left)\")\n",
    "plt.show()"
   ]
  },
  {
   "cell_type": "code",
   "execution_count": 30,
   "id": "eddaea3f-d70e-4607-9bc7-a0300ed266dc",
   "metadata": {},
   "outputs": [
    {
     "name": "stderr",
     "output_type": "stream",
     "text": [
      "C:\\Users\\kr304\\AppData\\Local\\Temp\\ipykernel_21100\\3100753021.py:2: FutureWarning: \n",
      "\n",
      "The `ci` parameter is deprecated. Use `errorbar=('ci', False)` for the same effect.\n",
      "\n",
      "  sns.barplot(x=\"gender\", y=\"target\",ci=False, data=data, palette=\"viridis\")\n"
     ]
    },
    {
     "data": {
      "image/png": "[encoded data removed]",
      "text/plain": [
       "<Figure size 800x600 with 1 Axes>"
      ]
     },
     "metadata": {},
     "output_type": "display_data"
    }
   ],
   "source": [
    "# ATTRITION RATE BY GENDER\n",
    "\n",
    "plt.figure(figsize=(8,6))\n",
    "sns.barplot(x=\"gender\", y=\"target\",ci=False, data=data, palette=\"viridis\")\n",
    "plt.title(\"Attrition Rate by Gender\")\n",
    "plt.show()"
   ]
  },
  {
   "cell_type": "code",
   "execution_count": 23,
   "id": "b4263296-3947-4f37-82d5-fa0614c79bef",
   "metadata": {},
   "outputs": [],
   "source": [
    "# ENCODING TO CONVERT CATEGORICAL DATA INTO NUMERIC \n",
    "\n",
    "le = LabelEncoder()\n",
    "for col in data.select_dtypes(include=\"object\").columns:\n",
    "    data[col] = le.fit_transform(data[col])"
   ]
  },
  {
   "cell_type": "code",
   "execution_count": 25,
   "id": "80a6f1ea-5508-4f6e-9d73-4f051ddd58dc",
   "metadata": {},
   "outputs": [],
   "source": [
    "X = data.drop(\"target\", axis=1)   # \"target\" column = whether employee left\n",
    "y = data[\"target\"]\n",
    "\n",
    "# Scale features\n",
    "scaler = StandardScaler()\n",
    "X = scaler.fit_transform(X)\n",
    "\n",
    "# Train-test split\n",
    "X_train, X_test, y_train, y_test = train_test_split(X, y, test_size=0.2, random_state=42)"
   ]
  },
  {
   "cell_type": "code",
   "execution_count": 26,
   "id": "62e4e3dc-6b4f-43f3-9775-07de791dad69",
   "metadata": {},
   "outputs": [
    {
     "name": "stdout",
     "output_type": "stream",
     "text": [
      "\n",
      "Logistic Regression Accuracy: 0.7662\n",
      "[[2686  194]\n",
      " [ 702  250]]\n",
      "              precision    recall  f1-score   support\n",
      "\n",
      "         0.0       0.79      0.93      0.86      2880\n",
      "         1.0       0.56      0.26      0.36       952\n",
      "\n",
      "    accuracy                           0.77      3832\n",
      "   macro avg       0.68      0.60      0.61      3832\n",
      "weighted avg       0.74      0.77      0.73      3832\n",
      "\n",
      "\n",
      "Decision Tree Accuracy: 0.7043\n",
      "[[2286  594]\n",
      " [ 539  413]]\n",
      "              precision    recall  f1-score   support\n",
      "\n",
      "         0.0       0.81      0.79      0.80      2880\n",
      "         1.0       0.41      0.43      0.42       952\n",
      "\n",
      "    accuracy                           0.70      3832\n",
      "   macro avg       0.61      0.61      0.61      3832\n",
      "weighted avg       0.71      0.70      0.71      3832\n",
      "\n",
      "\n",
      "Random Forest Accuracy: 0.7657\n",
      "[[2572  308]\n",
      " [ 590  362]]\n",
      "              precision    recall  f1-score   support\n",
      "\n",
      "         0.0       0.81      0.89      0.85      2880\n",
      "         1.0       0.54      0.38      0.45       952\n",
      "\n",
      "    accuracy                           0.77      3832\n",
      "   macro avg       0.68      0.64      0.65      3832\n",
      "weighted avg       0.75      0.77      0.75      3832\n",
      "\n",
      "\n",
      "Model Comparison:\n",
      "                  Model  Accuracy\n",
      "0  Logistic Regression  0.766180\n",
      "1        Decision Tree  0.704332\n",
      "2        Random Forest  0.765658\n"
     ]
    }
   ],
   "source": [
    "# MODEL TRAIN\n",
    "\n",
    "models = {\n",
    "    \"Logistic Regression\": LogisticRegression(max_iter=1000),\n",
    "    \"Decision Tree\": DecisionTreeClassifier(random_state=42),\n",
    "    \"Random Forest\": RandomForestClassifier(random_state=42, n_estimators=100)\n",
    "}\n",
    "\n",
    "results = []\n",
    "for name, model in models.items():\n",
    "    model.fit(X_train, y_train)\n",
    "    y_pred = model.predict(X_test)\n",
    "    acc = accuracy_score(y_test, y_pred)\n",
    "    results.append({\"Model\": name, \"Accuracy\": acc})\n",
    "    print(f\"\\n{name} Accuracy: {acc:.4f}\")\n",
    "    print(confusion_matrix(y_test, y_pred))\n",
    "    print(classification_report(y_test, y_pred))\n",
    "\n",
    "results_data = pd.DataFrame(results)\n",
    "print(\"\\nModel Comparison:\\n\", results_data)"
   ]
  },
  {
   "cell_type": "code",
   "execution_count": 29,
   "id": "b43d8661-ddf7-4c61-8ed5-eafb084a0c34",
   "metadata": {},
   "outputs": [
    {
     "data": {
      "image/png": "[encoded data removed]",
      "text/plain": [
       "<Figure size 1000x700 with 1 Axes>"
      ]
     },
     "metadata": {},
     "output_type": "display_data"
    }
   ],
   "source": [
    "# MODEL COMPARISON BASE ON ACCURACY\n",
    "\n",
    "plt.figure(figsize=(10,7))\n",
    "sns.barplot(x=\"Model\", y=\"Accuracy\", data=results_data, palette=\"coolwarm\")\n",
    "plt.title(\"Model Comparison - Accuracy\")\n",
    "plt.ylabel(\"Accuracy\")\n",
    "plt.show()"
   ]
  },
  {
   "cell_type": "code",
   "execution_count": 37,
   "id": "49380931-ffa8-474f-b77d-cea00177cfdd",
   "metadata": {},
   "outputs": [],
   "source": [
    "# SPLIT DATA IN x AND y VARIABLE FOR LOGISTIC REGRESSION MODEL TRANING \n",
    "\n",
    "x=data.iloc[:,1:13]\n",
    "y=data.iloc[:,-1]"
   ]
  },
  {
   "cell_type": "code",
   "execution_count": 38,
   "id": "343cd6cd-ab52-4890-873d-fd4ca35f8493",
   "metadata": {},
   "outputs": [],
   "source": [
    "# IMPORT LIBRARIRES \n",
    "\n",
    "from sklearn.model_selection import train_test_split\n",
    "xtrain,xtest,ytrain,ytest=train_test_split(x,y,test_size=0.20) "
   ]
  },
  {
   "cell_type": "code",
   "execution_count": 39,
   "id": "11b0daa4-4065-4572-9dcf-8f4c885ad969",
   "metadata": {},
   "outputs": [],
   "source": [
    "# DEFINE MODEL\n",
    "from sklearn.linear_model import LogisticRegression\n",
    "model=LogisticRegression()"
   ]
  },
  {
   "cell_type": "code",
   "execution_count": 40,
   "id": "18e72f35-2bda-4bd1-8555-6af88596c116",
   "metadata": {},
   "outputs": [
    {
     "data": {
      "text/plain": [
       "enrollee_id               0\n",
       "city                      0\n",
       "city_development_index    0\n",
       "gender                    0\n",
       "relevent_experience       0\n",
       "enrolled_university       0\n",
       "education_level           0\n",
       "major_discipline          0\n",
       "experience                0\n",
       "company_size              0\n",
       "company_type              0\n",
       "last_new_job              0\n",
       "training_hours            0\n",
       "target                    0\n",
       "dtype: int64"
      ]
     },
     "execution_count": 40,
     "metadata": {},
     "output_type": "execute_result"
    }
   ],
   "source": [
    "data.isnull().sum()"
   ]
  },
  {
   "cell_type": "code",
   "execution_count": 41,
   "id": "e120d9a7-a666-4d3a-8680-1d0e42215620",
   "metadata": {},
   "outputs": [
    {
     "name": "stderr",
     "output_type": "stream",
     "text": [
      "C:\\Users\\kr304\\anaconda3\\Lib\\site-packages\\sklearn\\linear_model\\_logistic.py:458: ConvergenceWarning: lbfgs failed to converge (status=1):\n",
      "STOP: TOTAL NO. of ITERATIONS REACHED LIMIT.\n",
      "\n",
      "Increase the number of iterations (max_iter) or scale the data as shown in:\n",
      "    https://scikit-learn.org/stable/modules/preprocessing.html\n",
      "Please also refer to the documentation for alternative solver options:\n",
      "    https://scikit-learn.org/stable/modules/linear_model.html#logistic-regression\n",
      "  n_iter_i = _check_optimize_result(\n"
     ]
    },
    {
     "data": {
      "text/html": [
       "<style>#sk-container-id-1 {color: black;background-color: white;}#sk-container-id-1 pre{padding: 0;}#sk-container-id-1 div.sk-toggleable {background-color: white;}#sk-container-id-1 label.sk-toggleable__label {cursor: pointer;display: block;width: 100%;margin-bottom: 0;padding: 0.3em;box-sizing: border-box;text-align: center;}#sk-container-id-1 label.sk-toggleable__label-arrow:before {content: \"▸\";float: left;margin-right: 0.25em;color: #696969;}#sk-container-id-1 label.sk-toggleable__label-arrow:hover:before {color: black;}#sk-container-id-1 div.sk-estimator:hover label.sk-toggleable__label-arrow:before {color: black;}#sk-container-id-1 div.sk-toggleable__content {max-height: 0;max-width: 0;overflow: hidden;text-align: left;background-color: #f0f8ff;}#sk-container-id-1 div.sk-toggleable__content pre {margin: 0.2em;color: black;border-radius: 0.25em;background-color: #f0f8ff;}#sk-container-id-1 input.sk-toggleable__control:checked~div.sk-toggleable__content {max-height: 200px;max-width: 100%;overflow: auto;}#sk-container-id-1 input.sk-toggleable__control:checked~label.sk-toggleable__label-arrow:before {content: \"▾\";}#sk-container-id-1 div.sk-estimator input.sk-toggleable__control:checked~label.sk-toggleable__label {background-color: #d4ebff;}#sk-container-id-1 div.sk-label input.sk-toggleable__control:checked~label.sk-toggleable__label {background-color: #d4ebff;}#sk-container-id-1 input.sk-hidden--visually {border: 0;clip: rect(1px 1px 1px 1px);clip: rect(1px, 1px, 1px, 1px);height: 1px;margin: -1px;overflow: hidden;padding: 0;position: absolute;width: 1px;}#sk-container-id-1 div.sk-estimator {font-family: monospace;background-color: #f0f8ff;border: 1px dotted black;border-radius: 0.25em;box-sizing: border-box;margin-bottom: 0.5em;}#sk-container-id-1 div.sk-estimator:hover {background-color: #d4ebff;}#sk-container-id-1 div.sk-parallel-item::after {content: \"\";width: 100%;border-bottom: 1px solid gray;flex-grow: 1;}#sk-container-id-1 div.sk-label:hover label.sk-toggleable__label {background-color: #d4ebff;}#sk-container-id-1 div.sk-serial::before {content: \"\";position: absolute;border-left: 1px solid gray;box-sizing: border-box;top: 0;bottom: 0;left: 50%;z-index: 0;}#sk-container-id-1 div.sk-serial {display: flex;flex-direction: column;align-items: center;background-color: white;padding-right: 0.2em;padding-left: 0.2em;position: relative;}#sk-container-id-1 div.sk-item {position: relative;z-index: 1;}#sk-container-id-1 div.sk-parallel {display: flex;align-items: stretch;justify-content: center;background-color: white;position: relative;}#sk-container-id-1 div.sk-item::before, #sk-container-id-1 div.sk-parallel-item::before {content: \"\";position: absolute;border-left: 1px solid gray;box-sizing: border-box;top: 0;bottom: 0;left: 50%;z-index: -1;}#sk-container-id-1 div.sk-parallel-item {display: flex;flex-direction: column;z-index: 1;position: relative;background-color: white;}#sk-container-id-1 div.sk-parallel-item:first-child::after {align-self: flex-end;width: 50%;}#sk-container-id-1 div.sk-parallel-item:last-child::after {align-self: flex-start;width: 50%;}#sk-container-id-1 div.sk-parallel-item:only-child::after {width: 0;}#sk-container-id-1 div.sk-dashed-wrapped {border: 1px dashed gray;margin: 0 0.4em 0.5em 0.4em;box-sizing: border-box;padding-bottom: 0.4em;background-color: white;}#sk-container-id-1 div.sk-label label {font-family: monospace;font-weight: bold;display: inline-block;line-height: 1.2em;}#sk-container-id-1 div.sk-label-container {text-align: center;}#sk-container-id-1 div.sk-container {/* jupyter's `normalize.less` sets `[hidden] { display: none; }` but bootstrap.min.css set `[hidden] { display: none !important; }` so we also need the `!important` here to be able to override the default hidden behavior on the sphinx rendered scikit-learn.org. See: https://github.com/scikit-learn/scikit-learn/issues/21755 */display: inline-block !important;position: relative;}#sk-container-id-1 div.sk-text-repr-fallback {display: none;}</style><div id=\"sk-container-id-1\" class=\"sk-top-container\"><div class=\"sk-text-repr-fallback\"><pre>LogisticRegression()</pre><b>In a Jupyter environment, please rerun this cell to show the HTML representation or trust the notebook. <br />On GitHub, the HTML representation is unable to render, please try loading this page with nbviewer.org.</b></div><div class=\"sk-container\" hidden><div class=\"sk-item\"><div class=\"sk-estimator sk-toggleable\"><input class=\"sk-toggleable__control sk-hidden--visually\" id=\"sk-estimator-id-1\" type=\"checkbox\" checked><label for=\"sk-estimator-id-1\" class=\"sk-toggleable__label sk-toggleable__label-arrow\">LogisticRegression</label><div class=\"sk-toggleable__content\"><pre>LogisticRegression()</pre></div></div></div></div></div>"
      ],
      "text/plain": [
       "LogisticRegression()"
      ]
     },
     "execution_count": 41,
     "metadata": {},
     "output_type": "execute_result"
    }
   ],
   "source": [
    "# FIT THE MODEL\n",
    "model.fit(xtrain,ytrain)"
   ]
  },
  {
   "cell_type": "code",
   "execution_count": 42,
   "id": "9aea169a-7ea7-4e77-9e29-1bfa2e36361a",
   "metadata": {},
   "outputs": [
    {
     "data": {
      "text/plain": [
       "array([0., 0., 0., ..., 0., 0., 0.])"
      ]
     },
     "execution_count": 42,
     "metadata": {},
     "output_type": "execute_result"
    }
   ],
   "source": [
    "model.predict(xtest)"
   ]
  },
  {
   "cell_type": "code",
   "execution_count": 43,
   "id": "20796041-d5d9-4536-a1d4-58eb08b467dd",
   "metadata": {},
   "outputs": [],
   "source": [
    "prediction=model.predict(xtest)"
   ]
  },
  {
   "cell_type": "code",
   "execution_count": 44,
   "id": "f2a7ee95-f816-42b6-bdba-646135896cbd",
   "metadata": {},
   "outputs": [
    {
     "data": {
      "text/plain": [
       "0.7638308977035491"
      ]
     },
     "execution_count": 44,
     "metadata": {},
     "output_type": "execute_result"
    }
   ],
   "source": [
    "from sklearn.metrics import accuracy_score\n",
    "accuracy_score(ytest,prediction)"
   ]
  },
  {
   "cell_type": "code",
   "execution_count": 45,
   "id": "d5d5df08-7f8d-45ce-a913-0b9c4a792327",
   "metadata": {},
   "outputs": [
    {
     "data": {
      "text/plain": [
       "array([[2821,   97],\n",
       "       [ 808,  106]], dtype=int64)"
      ]
     },
     "execution_count": 45,
     "metadata": {},
     "output_type": "execute_result"
    }
   ],
   "source": [
    "from sklearn.metrics import confusion_matrix\n",
    "confusion_matrix(ytest,prediction)"
   ]
  },
  {
   "cell_type": "code",
   "execution_count": null,
   "id": "6e4f2eed-6ede-420b-9625-cad76b91abf9",
   "metadata": {},
   "outputs": [],
   "source": [
    "# CONCLUSION-\n",
    "# AFTER THE RESULT WE CAN SEE THAT THE HIGEST ACCURACY (76.3%) PROVIED BY LOGISTIC REGRESSION\n",
    "# FOR PREDICTING EMPLOYEE ATTRITION WHERE AS OTHER MODEL(DECISION TREE AND RANDOM FOREST) ARE NOT GOOD AS LOGISTIC REGRESSION."
   ]
  },
  {
   "cell_type": "code",
   "execution_count": null,
   "id": "c109620a-a47c-40c5-a11a-a8821ba62312",
   "metadata": {},
   "outputs": [],
   "source": [
    "# FEATURES-\n",
    "# PREDICTS PROBABILITY OF EMPLOYEE LEAVING (ATTRITION=1)\n",
    "# WORKS WELL WITH BINARY CLASSIFICTION PROBLEMS LIKE ATTRITION(0=STAYED,1=LEFT)\n",
    "# SIMPLE AND INTERPRETABLE"
   ]
  },
  {
   "cell_type": "code",
   "execution_count": null,
   "id": "060bf490-5dce-4cc0-97e6-25f75b9711d6",
   "metadata": {},
   "outputs": [],
   "source": [
    "# ADVANTAGES-\n",
    "# GOOD BASELINE PERFORMANCE-gives a reference accuracy(76.3%)\n",
    "# HIGH INTERPRETABILITY\n",
    "# EFFICIENT FOR LARGE DATASET"
   ]
  },
  {
   "cell_type": "code",
   "execution_count": null,
   "id": "764930b7-4c88-4c5a-9d4c-f3851624ff3a",
   "metadata": {},
   "outputs": [],
   "source": [
    "# DISADVANTAGES-\n",
    "# LOWER ACCURACY THAN ADVANCE MODELS\n",
    "# NOT SUITABLE FOR COMPLEX RELATIONSHIP AND SENSITIVE TO OUTLIERS\n",
    "# NOT SUITABLE FOR NON-LINEAR PROBLEMS UNLESS FEATURES ARE TRANSFORM"
   ]
  },
  {
   "cell_type": "code",
   "execution_count": null,
   "id": "e9434419-c840-4931-b49a-2c22478cf896",
   "metadata": {},
   "outputs": [],
   "source": [
    "# WORKFLOW-\n",
    "# DEFINING THE PROBLEM \n",
    "# DATA COLLECTION AND PREPROCESSING \n",
    "# SPLIT DATASET \n",
    "# MODEL BUILDING \n",
    "# MODEL TRAINING \n",
    "# PREDICTION \n",
    "# MODEL EVELUATION \n",
    "# DEPLOYMENT"
   ]
  }
 ],
 "metadata": {
  "kernelspec": {
   "display_name": "Python 3 (ipykernel)",
   "language": "python",
   "name": "python3"
  },
  "language_info": {
   "codemirror_mode": {
    "name": "ipython",
    "version": 3
   },
   "file_extension": ".py",
   "mimetype": "text/x-python",
   "name": "python",
   "nbconvert_exporter": "python",
   "pygments_lexer": "ipython3",
   "version": "3.11.7"
  }
 },
 "nbformat": 4,
 "nbformat_minor": 5
}
